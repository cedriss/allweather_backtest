{
 "cells": [
  {
   "cell_type": "code",
   "execution_count": 7,
   "metadata": {},
   "outputs": [],
   "source": [
    "import pandas as pd"
   ]
  },
  {
   "cell_type": "code",
   "execution_count": 8,
   "metadata": {},
   "outputs": [],
   "source": [
    "from yahoofinancials import YahooFinancials\n",
    "from datetime import datetime"
   ]
  },
  {
   "cell_type": "code",
   "execution_count": 11,
   "metadata": {},
   "outputs": [],
   "source": [
    "def download_csv_data(ticker, start_date, end_date, freq, path):\n",
    "\n",
    "    yahoo_financials = YahooFinancials(ticker)\n",
    "\n",
    "    df = yahoo_financials.get_historical_price_data(start_date, end_date, freq)\n",
    "    df = pd.DataFrame(df[ticker]['prices']).drop(['date'], axis=1) \\\n",
    "            .rename(columns={'formatted_date':'date'}) \\\n",
    "            .loc[:, ['date','open','high','low','close','volume']] \\\n",
    "            .set_index('date')\n",
    "    df.index = pd.to_datetime(df.index)\n",
    "    df['dividend'] = 0\n",
    "    df['split'] = 1\n",
    "\n",
    "    # save data to csv for later ingestion\n",
    "    df.to_csv(path, header=True, index=True)"
   ]
  },
  {
   "cell_type": "code",
   "execution_count": 12,
   "metadata": {},
   "outputs": [],
   "source": [
    "us_sectors=[\"BRK-B\"]\n",
    "start_date='2007-01-01'\n",
    "end_date='2020-04-30'\n",
    "\n",
    "for tick in us_sectors:\n",
    "    filename='~/csv/daily/'+tick+'.csv'\n",
    "    download_csv_data(ticker=tick,\n",
    "                  start_date=start_date,\n",
    "                  end_date=end_date,\n",
    "                  freq='daily',\n",
    "                  path=filename)"
   ]
  },
  {
   "cell_type": "code",
   "execution_count": null,
   "metadata": {},
   "outputs": [],
   "source": []
  }
 ],
 "metadata": {
  "kernelspec": {
   "display_name": "Python 3",
   "language": "python",
   "name": "python3"
  },
  "language_info": {
   "codemirror_mode": {
    "name": "ipython",
    "version": 3
   },
   "file_extension": ".py",
   "mimetype": "text/x-python",
   "name": "python",
   "nbconvert_exporter": "python",
   "pygments_lexer": "ipython3",
   "version": "3.5.6"
  }
 },
 "nbformat": 4,
 "nbformat_minor": 4
}
